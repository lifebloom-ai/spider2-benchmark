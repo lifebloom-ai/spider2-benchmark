{
 "cells": [
  {
   "cell_type": "markdown",
   "id": "da90be71-ed3a-4062-b753-fad0f1fbb167",
   "metadata": {
    "collapsed": false,
    "name": "introduction"
   },
   "source": [
    "# Evaluation of Spider 2.0 Snowflake Queries\n",
    "## For each query, expect this format:\n",
    "1. The Question / Context for the Snowflake Query\n",
    "2. The Gold \"Answer\" Query from Spider 2.0 ./evaluation_suite/gold/sql\n",
    "3. Lifebloom's \"Answer\" Query from the same starter question.\n",
    "4. Verdict and Notes\n",
    "## Replication\n",
    "From a Snowflake account, you can replicate these exact results by uploading this notebook into your Snowflake account - all of the data sources here are (currently) free and openly available via the Snowflake Marketplace from vendors like CYBERSYN, Yes Energy, Braze, and others.\n"
   ]
  },
  {
   "cell_type": "markdown",
   "id": "67a6a0ce-782b-4e08-a8b1-5162f4046d0e",
   "metadata": {
    "collapsed": false,
    "name": "sf001_query"
   },
   "source": [
    "## SF-001\n",
    "### Question: Assuming today is April 1, 2024, I would like to know the daily snowfall amounts greater than 6 inches for each U.S. postal code during the week ending after the first two full weeks of the previous year. Show the postal code, date, and snowfall amount."
   ]
  },
  {
   "cell_type": "code",
   "execution_count": null,
   "id": "c26d44ec-8ace-4634-be70-c8a90e1e6518",
   "metadata": {
    "codeCollapsed": false,
    "language": "sql",
    "name": "sf001_gold"
   },
   "outputs": [],
   "source": [
    "WITH timestamps AS\n",
    "(   \n",
    "    SELECT\n",
    "        DATE_TRUNC(year,DATEADD(year,-1,DATE '2024-08-29')) AS ref_timestamp,\n",
    "        LAST_DAY(DATEADD(week,2 + CAST(WEEKISO(ref_timestamp) != 1 AS INTEGER),ref_timestamp),week) AS end_week,\n",
    "        DATEADD(day, day_num - 7, end_week) AS date_valid_std\n",
    "    FROM\n",
    "    (   \n",
    "        SELECT\n",
    "            ROW_NUMBER() OVER (ORDER BY SEQ1()) AS day_num\n",
    "        FROM\n",
    "            TABLE(GENERATOR(rowcount => 7))\n",
    "    ) \n",
    ")\n",
    "SELECT\n",
    "    country,\n",
    "    postal_code,\n",
    "    date_valid_std,\n",
    "    tot_snowfall_in \n",
    "FROM \n",
    "    GLOBAL_WEATHER__CLIMATE_DATA_FOR_BI.standard_tile.history_day\n",
    "NATURAL INNER JOIN\n",
    "    timestamps\n",
    "WHERE\n",
    "    country='US' AND\n",
    "    tot_snowfall_in > 6.0 \n",
    "ORDER BY \n",
    "    postal_code,date_valid_std\n",
    ";"
   ]
  },
  {
   "cell_type": "code",
   "execution_count": null,
   "id": "11bf681e-b882-4824-a96a-8eef9222b7e5",
   "metadata": {
    "language": "sql",
    "name": "sf001_lifebloom"
   },
   "outputs": [],
   "source": [
    "SELECT POSTAL_CODE, DATE_VALID_STD, TOT_SNOWFALL_IN\n",
    "FROM GLOBAL_WEATHER__CLIMATE_DATA_FOR_BI.STANDARD_TILE.HISTORY_DAY\n",
    "WHERE DATE_VALID_STD BETWEEN '2023-01-15' AND '2023-01-21'\n",
    "  AND TOT_SNOWFALL_IN > 6\n",
    "  AND COUNTRY = 'US'\n",
    "ORDER BY DATE_VALID_STD, POSTAL_CODE;"
   ]
  },
  {
   "cell_type": "markdown",
   "id": "3e1ebbd2-c511-492b-9ca9-75af5b8eb178",
   "metadata": {
    "collapsed": false,
    "name": "sf001_verdict"
   },
   "source": [
    "## Verdict: Correct!"
   ]
  },
  {
   "cell_type": "markdown",
   "id": "f9ed8522-d677-46b7-b22b-c2cc03416ca7",
   "metadata": {
    "collapsed": false,
    "name": "sf002_query"
   },
   "source": [
    "## SF-002\n",
    "### As of December 31, 2022, which top 10 active large banks, each with assets over $10 billion, had the highest percentage of uninsured assets based on quarterly estimates?"
   ]
  },
  {
   "cell_type": "code",
   "execution_count": null,
   "id": "4cb7ea67-ee54-4ca4-913b-f14d4bf9e2ed",
   "metadata": {
    "codeCollapsed": false,
    "language": "sql",
    "name": "sf002_gold"
   },
   "outputs": [],
   "source": [
    "WITH big_banks AS (\n",
    "    SELECT id_rssd\n",
    "    FROM FINANCE__ECONOMICS.CYBERSYN.financial_institution_timeseries\n",
    "    WHERE variable = 'ASSET'\n",
    "      AND date = '2022-12-31'\n",
    "      AND value > 1E10\n",
    ")\n",
    "SELECT name\n",
    "FROM FINANCE__ECONOMICS.CYBERSYN.financial_institution_timeseries AS ts\n",
    "INNER JOIN FINANCE__ECONOMICS.CYBERSYN.financial_institution_attributes AS att ON (ts.variable = att.variable)\n",
    "INNER JOIN FINANCE__ECONOMICS.CYBERSYN.financial_institution_entities AS ent ON (ts.id_rssd = ent.id_rssd)\n",
    "INNER JOIN big_banks ON (big_banks.id_rssd = ts.id_rssd)\n",
    "WHERE ts.date = '2022-12-31'\n",
    "  AND att.variable_name = '% Insured (Estimated)'\n",
    "  AND att.frequency = 'Quarterly'\n",
    "  AND ent.is_active = True\n",
    "ORDER BY (1 - value) DESC\n",
    "LIMIT 10;"
   ]
  },
  {
   "cell_type": "code",
   "execution_count": null,
   "id": "7dceccf8-0856-4d9e-baef-8cd65aa47676",
   "metadata": {
    "language": "sql",
    "name": "sf002_lifebloom"
   },
   "outputs": [],
   "source": [
    "WITH ActiveLargeBanks AS ( \n",
    "    SELECT t.ID_RSSD, MAX(t.DATE) AS DATE, SUM(t.VALUE) AS Total_Assets \n",
    "    FROM FINANCE__ECONOMICS.CYBERSYN.FINANCIAL_INSTITUTION_TIMESERIES t \n",
    "    JOIN FINANCE__ECONOMICS.CYBERSYN.FINANCIAL_INSTITUTION_ENTITIES e \n",
    "    ON t.ID_RSSD = e.ID_RSSD \n",
    "    WHERE e.IS_ACTIVE = TRUE \n",
    "    AND t.DATE = '2022-12-31' \n",
    "    AND t.VARIABLE_NAME LIKE '%Assets%' \n",
    "    GROUP BY t.ID_RSSD \n",
    "    HAVING SUM(t.VALUE) > 10000000000 ), \n",
    "UninsuredAssets AS ( \n",
    "    SELECT u.ID_RSSD, u.DATE, SUM(u.VALUE) AS Uninsured_Assets \n",
    "    FROM FINANCE__ECONOMICS.CYBERSYN.FINANCIAL_INSTITUTION_TIMESERIES u \n",
    "    WHERE u.DATE = '2022-12-31' \n",
    "    AND u.VARIABLE_NAME = 'Deposits: Amount ($) Deposit Accounts of More Than $250,000' \n",
    "    AND u.ID_RSSD IN (\n",
    "        SELECT ID_RSSD \n",
    "        FROM ActiveLargeBanks) \n",
    "        GROUP BY u.ID_RSSD, u.DATE ), \n",
    "RankedUninsuredPercent AS ( \n",
    "    SELECT a.ID_RSSD, a.Total_Assets, u.Uninsured_Assets, (u.Uninsured_Assets / a.Total_Assets) * 100 AS Uninsured_Percentage \n",
    "    FROM ActiveLargeBanks a \n",
    "    JOIN UninsuredAssets u \n",
    "    ON a.ID_RSSD = u.ID_RSSD ) \n",
    "SELECT \n",
    "    e.NAME, r.ID_RSSD, r.Total_Assets, r.Uninsured_Assets, \n",
    "    r.Uninsured_Percentage \n",
    "FROM RankedUninsuredPercent r \n",
    "JOIN FINANCE__ECONOMICS.CYBERSYN.FINANCIAL_INSTITUTION_ENTITIES e \n",
    "ON e.ID_RSSD = r.ID_RSSD \n",
    "ORDER BY r.Uninsured_Percentage DESC \n",
    "LIMIT 10;"
   ]
  },
  {
   "cell_type": "markdown",
   "id": "165d48f2-9fb1-4820-892b-2205103cea6e",
   "metadata": {
    "collapsed": false,
    "name": "sf002_verdict"
   },
   "source": [
    "## Verdict:  Incorrect."
   ]
  },
  {
   "cell_type": "markdown",
   "id": "267deb0a-7901-4d6c-99c7-476c1c9fd40c",
   "metadata": {
    "collapsed": false,
    "name": "sf003_query"
   },
   "source": [
    "## SF-003\n",
    "### From 2015 to 2020, which zip code in Census Zip Code Tabulation Areas had the second-highest annual population growth rate, given a minimum estimate of 25,000 people over a 5-year period? Include the zip code, state abbreviation, and growth rate."
   ]
  },
  {
   "cell_type": "code",
   "execution_count": null,
   "id": "8dc49494-b3e9-4b20-8734-ed1aeb07c4d7",
   "metadata": {
    "codeCollapsed": false,
    "language": "sql",
    "name": "sf003_gold"
   },
   "outputs": [],
   "source": [
    "WITH zip_stats AS (\n",
    "    SELECT\n",
    "        YEAR(ts.date) AS year,\n",
    "        ts.geo_id AS zip,\n",
    "        rship.related_geo_name AS state,\n",
    "        ts.value AS population,\n",
    "        LAG(ts.value, 1) OVER (PARTITION BY zip ORDER BY year ASC) AS prev_year_population,\n",
    "        population / prev_year_population - 1 AS pct_growth,\n",
    "        population - prev_year_population AS absolute_change\n",
    "    FROM GLOBAL_GOVERNMENT.CYBERSYN.american_community_survey_timeseries AS ts\n",
    "    JOIN GLOBAL_GOVERNMENT.CYBERSYN.american_community_survey_attributes AS att\n",
    "        ON ts.variable = att.variable\n",
    "    JOIN GLOBAL_GOVERNMENT.CYBERSYN.geography_index AS geo\n",
    "        ON ts.geo_id = geo.geo_id\n",
    "    JOIN GLOBAL_GOVERNMENT.CYBERSYN.geography_relationships AS rship\n",
    "        ON ts.geo_id = rship.geo_id AND rship.related_level = 'State'\n",
    "    WHERE\n",
    "        att.series_type = 'Total Population'\n",
    "        AND att.measurement_type = 'Estimate'\n",
    "        AND att.measurement_period = '5YR'\n",
    "        AND geo.level = 'CensusZipCodeTabulationArea'\n",
    "        AND ts.value > 25000\n",
    ")\n",
    "\n",
    "SELECT\n",
    "    year,\n",
    "    zip,\n",
    "    state,\n",
    "    pct_growth AS growth_percentage\n",
    "FROM (\n",
    "    SELECT\n",
    "        *,\n",
    "        ROW_NUMBER() OVER (PARTITION BY year ORDER BY pct_growth DESC NULLS LAST) AS annual_rank\n",
    "    FROM zip_stats\n",
    "    WHERE year BETWEEN 2015 AND 2020\n",
    ")\n",
    "WHERE annual_rank = 2\n",
    "ORDER BY year;"
   ]
  },
  {
   "cell_type": "code",
   "execution_count": null,
   "id": "06b2d18d-836b-47b6-baa9-150445cb822a",
   "metadata": {
    "language": "sql",
    "name": "sf003_lifebloom"
   },
   "outputs": [],
   "source": [
    "SELECT 'Further data sourcing is necessary for completion of user objectives.' AS RESOLUTION_NOTICE;"
   ]
  },
  {
   "cell_type": "markdown",
   "id": "2292818d-701c-487d-bc36-b75fd166d50b",
   "metadata": {
    "collapsed": false,
    "name": "cell1"
   },
   "source": [
    "## Verdict: Incorrect!"
   ]
  },
  {
   "cell_type": "markdown",
   "id": "5fc97c2a-385c-408a-a82d-e600b6ba6aaf",
   "metadata": {
    "collapsed": false,
    "name": "sf006_query"
   },
   "source": [
    "## SF-006\n",
    "### What is the change ratio in the number of active financial branch entities in each state from before March 1, 2020, to the end of 2021?"
   ]
  },
  {
   "cell_type": "code",
   "execution_count": null,
   "id": "8bf5cb5e-0545-427d-8118-3295b6528421",
   "metadata": {
    "codeCollapsed": false,
    "language": "sql",
    "name": "sf006_gold"
   },
   "outputs": [],
   "source": [
    "WITH pre_covid AS (\n",
    "    SELECT state_abbreviation,\n",
    "           COUNT(*) AS pre_covid_count\n",
    "    FROM FINANCE__ECONOMICS.CYBERSYN.financial_branch_entities\n",
    "    WHERE start_date <= '2020-03-01'\n",
    "      AND (end_date >= '2020-03-01' OR end_date IS NULL)\n",
    "    GROUP BY state_abbreviation\n",
    ")\n",
    "SELECT cur.state_abbreviation,\n",
    "       pre_covid_count,\n",
    "       COUNT(*) AS current_count,\n",
    "       (current_count / CAST(pre_covid_count AS FLOAT)) - 1 AS pct_change\n",
    "FROM FINANCE__ECONOMICS.CYBERSYN.financial_branch_entities AS cur\n",
    "INNER JOIN pre_covid ON (cur.state_abbreviation = pre_covid.state_abbreviation)\n",
    "WHERE (end_date IS NULL OR end_date >= '2021-12-31')\n",
    "GROUP BY cur.state_abbreviation, pre_covid_count\n",
    "ORDER BY pct_change DESC;\n"
   ]
  },
  {
   "cell_type": "code",
   "execution_count": null,
   "id": "23b1294e-a405-4369-924e-184fe905413a",
   "metadata": {
    "language": "sql",
    "name": "sf006_lifebloom"
   },
   "outputs": [],
   "source": [
    "WITH Active_Branches_Pre_March_2020 AS (\n",
    "    SELECT \n",
    "        STATE_ABBREVIATION, \n",
    "        COUNT(*) AS Active_Branches_Before_March_2020\n",
    "    FROM \n",
    "        FINANCE__ECONOMICS.CYBERSYN.FINANCIAL_BRANCH_ENTITIES\n",
    "    WHERE \n",
    "        IS_ACTIVE = TRUE\n",
    "        AND START_DATE < '2020-03-01'\n",
    "        AND (END_DATE IS NULL OR END_DATE >= '2020-03-01')\n",
    "        AND STATE_ABBREVIATION IS NOT NULL\n",
    "    GROUP BY \n",
    "        STATE_ABBREVIATION\n",
    "),\n",
    "Active_Branches_End_2021 AS (\n",
    "    SELECT \n",
    "        STATE_ABBREVIATION, \n",
    "        COUNT(*) AS Active_Branches_End_Of_2021\n",
    "    FROM \n",
    "        FINANCE__ECONOMICS.CYBERSYN.FINANCIAL_BRANCH_ENTITIES\n",
    "    WHERE \n",
    "        IS_ACTIVE = TRUE\n",
    "        AND START_DATE <= '2021-12-31'\n",
    "        AND (END_DATE IS NULL OR END_DATE >= '2021-12-31')\n",
    "        AND STATE_ABBREVIATION IS NOT NULL\n",
    "    GROUP BY \n",
    "        STATE_ABBREVIATION\n",
    ")\n",
    "SELECT \n",
    "    COALESCE(p.STATE_ABBREVIATION, e.STATE_ABBREVIATION) AS STATE_ABBREVIATION,\n",
    "    COALESCE(p.Active_Branches_Before_March_2020, 0) AS Active_Branches_Before_March_2020, \n",
    "    COALESCE(e.Active_Branches_End_Of_2021, 0) AS Active_Branches_End_Of_2021,\n",
    "    CASE \n",
    "        WHEN COALESCE(p.Active_Branches_Before_March_2020, 0) = 0 THEN NULL\n",
    "        ELSE ((COALESCE(e.Active_Branches_End_Of_2021, 0) - COALESCE(p.Active_Branches_Before_March_2020, 0)) / NULLIF(COALESCE(p.Active_Branches_Before_March_2020, 0), 0) * 100) \n",
    "    END AS Change_Ratio\n",
    "FROM \n",
    "    Active_Branches_Pre_March_2020 p\n",
    "FULL OUTER JOIN \n",
    "    Active_Branches_End_2021 e\n",
    "ON \n",
    "    p.STATE_ABBREVIATION = e.STATE_ABBREVIATION\n",
    "ORDER BY \n",
    "    STATE_ABBREVIATION;"
   ]
  },
  {
   "cell_type": "markdown",
   "id": "303019d3-20bf-49eb-b9c1-8e274ef204b8",
   "metadata": {
    "collapsed": false,
    "name": "sf006_verdict"
   },
   "source": [
    "## Verdict: Correct*\n",
    "### We say correct, but it is unclear. The question clearly indicates that only active branches should be counted, but the \"Gold standard\" answer does not filter for active only, whereas the Lifebloom query does (among other differences)"
   ]
  },
  {
   "cell_type": "markdown",
   "id": "1b8fe7f3-236d-407a-b5bf-04e09e34b9c4",
   "metadata": {
    "collapsed": false,
    "name": "sf008_query"
   },
   "source": [
    "## SF-008\n",
    "### What is the percentage change in gross income inflow and purchase-only seasonally-adjusted home price index for the Phoenix-Mesa-Scottsdale, AZ Metro Area from the beginning to the end of 2023?"
   ]
  },
  {
   "cell_type": "code",
   "execution_count": null,
   "id": "c71259a8-f2ba-4acc-bcd7-5a9a8bd3859e",
   "metadata": {
    "codeCollapsed": false,
    "language": "sql",
    "name": "sf008_gold"
   },
   "outputs": [],
   "source": [
    "WITH county_map AS (\n",
    "    SELECT\n",
    "        geo_id,\n",
    "        geo_name,\n",
    "        related_geo_id,\n",
    "        related_geo_name\n",
    "    FROM US_REAL_ESTATE.CYBERSYN.geography_relationships\n",
    "    WHERE geo_name = 'Phoenix-Mesa-Scottsdale, AZ Metro Area'\n",
    "    AND related_level = 'County'\n",
    "), \n",
    "gross_income_data AS (\n",
    "    SELECT\n",
    "        geo_id,\n",
    "        date,\n",
    "        SUM(value) AS gross_income_inflow\n",
    "    FROM US_REAL_ESTATE.CYBERSYN.irs_origin_destination_migration_timeseries AS ts\n",
    "    JOIN county_map ON (county_map.related_geo_id = ts.to_geo_id)\n",
    "    WHERE ts.variable_name = 'Adjusted Gross Income'\n",
    "    GROUP BY geo_id, date\n",
    "), \n",
    "home_price_data AS (\n",
    "    SELECT LAST_DAY(date, 'year') AS end_date, AVG(value) AS home_price_index\n",
    "    FROM US_REAL_ESTATE.CYBERSYN.fhfa_house_price_timeseries AS ts\n",
    "    JOIN US_REAL_ESTATE.CYBERSYN.fhfa_house_price_attributes AS att\n",
    "        ON (ts.variable = att.variable)\n",
    "    WHERE geo_id IN (SELECT geo_id FROM county_map)\n",
    "      AND att.index_type = 'purchase-only'\n",
    "      AND att.seasonally_adjusted = TRUE\n",
    "    GROUP BY end_date\n",
    "),\n",
    "combined_data AS (\n",
    "    SELECT\n",
    "        gid.date,\n",
    "        gid.gross_income_inflow,\n",
    "        hpi.home_price_index\n",
    "    FROM gross_income_data AS gid\n",
    "    JOIN home_price_data AS hpi ON (gid.date = hpi.end_date)\n",
    "),\n",
    "aggregated_data AS (\n",
    "    SELECT\n",
    "        MIN(date) AS first_year,\n",
    "        MAX(date) AS last_year\n",
    "    FROM combined_data\n",
    "),\n",
    "summary_data AS (\n",
    "    SELECT\n",
    "        first_year,\n",
    "        last_year,\n",
    "        first_income.gross_income_inflow AS first_year_income,\n",
    "        last_income.gross_income_inflow AS last_year_income,\n",
    "        first_index.home_price_index AS first_year_index,\n",
    "        last_index.home_price_index AS last_year_index\n",
    "    FROM aggregated_data AS ad\n",
    "    JOIN combined_data AS first_income ON (first_income.date = ad.first_year)\n",
    "    JOIN combined_data AS last_income ON (last_income.date = ad.last_year)\n",
    "    JOIN combined_data AS first_index ON (first_index.date = ad.first_year)\n",
    "    JOIN combined_data AS last_index ON (last_index.date = ad.last_year)\n",
    ")\n",
    "SELECT\n",
    "    ((last_year_income - first_year_income) / first_year_income) * 100 AS income_growth_percent,\n",
    "    ((last_year_index - first_year_index) / first_year_index) * 100 AS index_growth_percent\n",
    "FROM summary_data;"
   ]
  },
  {
   "cell_type": "code",
   "execution_count": null,
   "id": "ac58f0a0-f8bd-41f7-afa4-f2cc7c9f15df",
   "metadata": {
    "language": "sql",
    "name": "sf008_lifebloom"
   },
   "outputs": [],
   "source": [
    "WITH hpi_data AS (\n",
    "  SELECT DATE, VALUE\n",
    "  FROM US_REAL_ESTATE.CYBERSYN.FHFA_HOUSE_PRICE_TIMESERIES\n",
    "  WHERE GEO_ID = 'geoId/C38060' \n",
    "  AND VARIABLE_NAME = 'FHFA_HPI traditional purchase-only quarterly Seasonally Adjusted'\n",
    "  AND DATE IN ('2023-03-31', '2023-12-31')\n",
    ")\n",
    "SELECT\n",
    "  MAX(CASE WHEN DATE = '2023-12-31' THEN VALUE END) AS Ending_Value,\n",
    "  MAX(CASE WHEN DATE = '2023-03-31' THEN VALUE END) AS Starting_Value,\n",
    "  100 * (MAX(CASE WHEN DATE = '2023-12-31' THEN VALUE END) - MAX(CASE WHEN DATE = '2023-03-31' THEN VALUE END)) / MAX(CASE WHEN DATE = '2023-03-31' THEN VALUE END) AS HPI_Percentage_Change\n",
    "FROM hpi_data;"
   ]
  },
  {
   "cell_type": "markdown",
   "id": "e5efb4c0-3b6d-4849-9649-5265c6552a8e",
   "metadata": {
    "collapsed": false,
    "name": "sf008_verdict"
   },
   "source": [
    "## Verdict: Incorrect!"
   ]
  },
  {
   "cell_type": "markdown",
   "id": "7b601fc3-8c67-48a4-92e6-dd6112292d95",
   "metadata": {
    "collapsed": false,
    "name": "sf009_query"
   },
   "source": [
    "## SF-009\n",
    "### A real estate company is looking for a comparison of the building types in Amsterdam and Rotterdam. They need to know the total surface area and the number of buildings for each type of building in both cities. Can you provide the building class and subclass, along with the total surface area and the number of buildings for both Amsterdam and Rotterdam?"
   ]
  },
  {
   "cell_type": "code",
   "execution_count": null,
   "id": "c5d791a7-038c-411d-aea1-f44e0f03e578",
   "metadata": {
    "codeCollapsed": false,
    "language": "sql",
    "name": "sf009_gold"
   },
   "outputs": [],
   "source": [
    "WITH BUILDING AS(\n",
    "SELECT A.NAMES['local']::VARCHAR AS NAME\n",
    "     ,B.Class\n",
    "     ,B.subclass\n",
    "     ,count(*) num_buidling\n",
    "     ,SUM(B.surface_area_sq_m) sum_surface_area_sq_m\n",
    " FROM NETHERLANDS_OPEN_MAP_DATA.NETHERLANDS.V_ADMINISTRATIVE A\n",
    "INNER\n",
    " JOIN(SELECT Class\n",
    "            ,subclass\n",
    "            ,surface_area_sq_m\n",
    "            ,GEO_CORDINATES\n",
    "        FROM NETHERLANDS_OPEN_MAP_DATA.NETHERLANDS.V_BUILDING\n",
    "       WHERE SUBSTR(QUADKEY\n",
    "             ,0\n",
    "             ,8) IN ('12020210', '12020211')) B\n",
    "   ON ST_COVERS(A.GEO_CORDINATES\n",
    "            ,B.GEO_CORDINATES)\n",
    "WHERE A.id IN('r324431@56'\n",
    "            ,'r47811@69')\n",
    "GROUP BY A.NAMES['local']\n",
    "     ,B.Class\n",
    "     ,B.subclass\n",
    "ORDER BY B.class\n",
    "     ,B.subclass)\n",
    "SELECT CLASS,\n",
    "SUBCLASS,\n",
    "MAX(CASE WHEN NAME='Amsterdam' THEN sum_surface_area_sq_m END) AS SUM_SURFACE_AREA_SQ_M_AMSTERDAM,\n",
    "MAX(CASE WHEN NAME='Rotterdam' THEN sum_surface_area_sq_m END) AS SUM_SURFACE_AREA_SQ_M_ROTTERDAM,\n",
    "MAX(CASE WHEN NAME='Amsterdam' THEN num_buidling END) AS NUM_OF_BUILDING_AMSTERDAM,\n",
    "MAX(CASE WHEN NAME='Rotterdam' THEN num_buidling END) AS NUM_OF_BUILDING_ROTTERDAM\n",
    "FROM BUILDING\n",
    "GROUP BY CLASS,SUBCLASS\n",
    "ORDER BY CLASS,SUBCLASS;"
   ]
  },
  {
   "cell_type": "code",
   "execution_count": null,
   "id": "cd271c61-11a2-4bd7-9017-a9e1c6f1155c",
   "metadata": {
    "codeCollapsed": false,
    "language": "sql",
    "name": "sf009_lifebloom"
   },
   "outputs": [],
   "source": [
    "WITH AddressInspection AS (\n",
    "  SELECT \n",
    "    id,\n",
    "    class,\n",
    "    subclass,\n",
    "    surface_area_sq_m,\n",
    "    f.value::string AS addr_string_key\n",
    "  FROM \n",
    "    NETHERLANDS_OPEN_MAP_DATA.NETHERLANDS.V_BUILDING,\n",
    "    LATERAL FLATTEN(input => PARSE_JSON(contains_addresses)) AS f\n",
    "),\n",
    "CityCategorization AS (\n",
    "  SELECT \n",
    "    id,\n",
    "    class,\n",
    "    subclass,\n",
    "    surface_area_sq_m,\n",
    "    addr_string_key,\n",
    "    CASE \n",
    "      WHEN addr_string_key LIKE '%\"addr:city\":\"Amsterdam\"%' THEN 'Amsterdam'\n",
    "      WHEN addr_string_key LIKE '%\"addr:city\":\"Rotterdam\"%' THEN 'Rotterdam'\n",
    "      ELSE NULL\n",
    "    END AS city\n",
    "  FROM \n",
    "    AddressInspection\n",
    ")\n",
    "SELECT \n",
    "  city,\n",
    "  class,\n",
    "  subclass,\n",
    "  COUNT(id) AS building_count,\n",
    "  SUM(surface_area_sq_m) AS total_surface_area\n",
    "FROM \n",
    "  CityCategorization\n",
    "WHERE \n",
    "  city IS NOT NULL\n",
    "GROUP BY \n",
    "  city, class, subclass\n",
    "ORDER BY \n",
    "  city, class, subclass;"
   ]
  },
  {
   "cell_type": "markdown",
   "id": "44fd5130-df67-4956-a060-7636098de4a8",
   "metadata": {
    "collapsed": false,
    "name": "sf009_verdict"
   },
   "source": [
    "## Verdict: Correct*\n",
    "### We think this one is certainly debatable, but we need more details from the Spider 2.0 team to understand more about these specific QUADKEY/Administrative ID values were selected ('r324431@56','r47811@69')."
   ]
  },
  {
   "cell_type": "markdown",
   "id": "9e6039db-d900-4993-aa19-b26571fbacce",
   "metadata": {
    "collapsed": false,
    "name": "sf010_query"
   },
   "source": [
    "## SF-010\n",
    "### What are the cumulative percentages of mortgages near default in California for each recorded date in 2023, including those 90 to 180 days past due, in forbearance, or in the process of foreclosure, bankruptcy, or deed in lieu?"
   ]
  },
  {
   "cell_type": "code",
   "execution_count": null,
   "id": "8b7f64b6-bf52-4086-a20f-6d8cae155745",
   "metadata": {
    "codeCollapsed": false,
    "language": "sql",
    "name": "sf010_gold"
   },
   "outputs": [],
   "source": [
    "SELECT\n",
    "    ts.date,\n",
    "    SUM(ts.value) AS pct_near_default\n",
    "FROM\n",
    "    US_REAL_ESTATE.CYBERSYN.fhfa_mortgage_performance_timeseries AS ts\n",
    "    JOIN US_REAL_ESTATE.CYBERSYN.fhfa_mortgage_performance_attributes AS att ON (ts.variable = att.variable)\n",
    "    JOIN US_REAL_ESTATE.CYBERSYN.geography_index AS geo ON (geo.geo_id = ts.geo_id)\n",
    "WHERE\n",
    "    att.variable_group IN (\n",
    "        'Percent 90 to 180 Days Past Due Date',\n",
    "        'Percent in Forbearance',\n",
    "        'Percent in the Process of Foreclosure, Bankruptcy, or Deed in Lieu'\n",
    "    )\n",
    "    AND att.market = 'All Mortgages'\n",
    "    AND geo.geo_name = 'California'\n",
    "    AND YEAR(ts.date) = 2023\n",
    "GROUP BY\n",
    "    ts.date\n",
    "ORDER BY\n",
    "    ts.date;"
   ]
  },
  {
   "cell_type": "code",
   "execution_count": null,
   "id": "5022cf16-e370-40d3-93b6-f9545d895158",
   "metadata": {
    "codeCollapsed": false,
    "language": "sql",
    "name": "sf010_lifebloom"
   },
   "outputs": [],
   "source": [
    "WITH filtered_data AS (\n",
    "  SELECT \n",
    "    GEO_ID,\n",
    "    VARIABLE_NAME,\n",
    "    DATE,\n",
    "    VALUE\n",
    "  FROM \n",
    "    US_REAL_ESTATE.CYBERSYN.FHFA_MORTGAGE_PERFORMANCE_TIMESERIES\n",
    "  WHERE \n",
    "    GEO_ID = 'geoId/06' AND\n",
    "    DATE >= '2023-01-01' AND \n",
    "    DATE <= '2023-12-31' AND \n",
    "    (VARIABLE_NAME LIKE '%90 to 180 Days Past Due Date%' OR\n",
    "     VARIABLE_NAME LIKE '%in Forbearance%' OR\n",
    "     VARIABLE_NAME LIKE '%Foreclosure%')\n",
    ")\n",
    "SELECT \n",
    "  DATE, \n",
    "  SUM(VALUE) AS Cumulative_Percentage_Near_Default\n",
    "FROM \n",
    "  filtered_data\n",
    "GROUP BY \n",
    "  DATE\n",
    "ORDER BY \n",
    "  DATE;"
   ]
  },
  {
   "cell_type": "markdown",
   "id": "8a21f875-22c0-4338-995b-c28aff0a45cd",
   "metadata": {
    "collapsed": false,
    "name": "sf010_verdict"
   },
   "source": [
    "## Verdict: Incorrect!"
   ]
  },
  {
   "cell_type": "markdown",
   "id": "2f354434-539c-480a-8f40-c92dfaf9b769",
   "metadata": {
    "collapsed": false,
    "name": "sf011_query"
   },
   "source": [
    "## SF011\n",
    "### Determine the population distribution within each block group relative to its census tract in New York State using 2021 ACS data. Include block group ID, census value, state county tract ID, total tract population, and the population ratio of each block group."
   ]
  },
  {
   "cell_type": "code",
   "execution_count": null,
   "id": "eff08f06-b388-4423-a81b-b64bfeb2fc9b",
   "metadata": {
    "codeCollapsed": false,
    "language": "sql",
    "name": "sf011_gold"
   },
   "outputs": [],
   "source": [
    " WITH TractPop AS (\n",
    "    SELECT\n",
    "        CG.\"BlockGroupID\",\n",
    "        FCV.\"CensusValue\",\n",
    "        CG.\"StateCountyTractID\",\n",
    "        CG.\"BlockGroupPolygon\"\n",
    "    FROM\n",
    "        CENSUS_GALAXY__ZIP_CODE_TO_BLOCK_GROUP_SAMPLE.PUBLIC.\"Dim_CensusGeography\" CG\n",
    "    JOIN\n",
    "        CENSUS_GALAXY__ZIP_CODE_TO_BLOCK_GROUP_SAMPLE.PUBLIC.\"Fact_CensusValues_ACS2021\" FCV\n",
    "        ON CG.\"BlockGroupID\" = FCV.\"BlockGroupID\"\n",
    "    WHERE\n",
    "        CG.\"StateAbbrev\" = 'NY'\n",
    "        AND FCV.\"MetricID\" = 'B01003_001E'\n",
    "),\n",
    "\n",
    "TractGroup AS (\n",
    "    SELECT\n",
    "        CG.\"StateCountyTractID\",\n",
    "        SUM(FCV.\"CensusValue\") AS \"TotalTractPop\"\n",
    "    FROM\n",
    "        CENSUS_GALAXY__ZIP_CODE_TO_BLOCK_GROUP_SAMPLE.PUBLIC.\"Dim_CensusGeography\" CG\n",
    "    JOIN\n",
    "        CENSUS_GALAXY__ZIP_CODE_TO_BLOCK_GROUP_SAMPLE.PUBLIC.\"Fact_CensusValues_ACS2021\" FCV\n",
    "        ON CG.\"BlockGroupID\" = FCV.\"BlockGroupID\"\n",
    "    WHERE\n",
    "        CG.\"StateAbbrev\" = 'NY'\n",
    "        AND FCV.\"MetricID\" = 'B01003_001E'\n",
    "    GROUP BY\n",
    "        CG.\"StateCountyTractID\"\n",
    ")\n",
    "\n",
    "SELECT\n",
    "    TP.\"BlockGroupID\",\n",
    "    TP.\"CensusValue\",\n",
    "    TP.\"StateCountyTractID\",\n",
    "    TG.\"TotalTractPop\",\n",
    "    CASE WHEN TG.\"TotalTractPop\" <> 0 THEN TP.\"CensusValue\" / TG.\"TotalTractPop\" ELSE 0 END AS \"BlockGroupRatio\"\n",
    "FROM\n",
    "    TractPop TP\n",
    "JOIN\n",
    "    TractGroup TG\n",
    "    ON TP.\"StateCountyTractID\" = TG.\"StateCountyTractID\";"
   ]
  },
  {
   "cell_type": "code",
   "execution_count": null,
   "id": "581a1d0a-226a-4e49-84e6-0494d26c3f14",
   "metadata": {
    "codeCollapsed": false,
    "language": "sql",
    "name": "sf011_lifebloom"
   },
   "outputs": [],
   "source": [
    "SELECT 'Process concluded: Objective cannot be fully achieved with current data, further data sourcing recommended.' AS Data_Exploration_Conclusion;"
   ]
  },
  {
   "cell_type": "markdown",
   "id": "6525bd62-131c-41cc-8cc7-eceec6f90d68",
   "metadata": {
    "collapsed": false,
    "name": "sf011_verdict"
   },
   "source": [
    "## Verdict: Incorrect!"
   ]
  },
  {
   "cell_type": "markdown",
   "id": "77db46da-938b-4766-83d9-613dc3db6ca7",
   "metadata": {
    "collapsed": false,
    "name": "sf012_query"
   },
   "source": [
    "## SF-012\n",
    "### What were the total amounts of building and contents damage reported under the National Flood Insurance Program in the City of New York for each year from 2010 to 2019?"
   ]
  },
  {
   "cell_type": "code",
   "execution_count": null,
   "id": "77c1f981-1b2d-40c6-ab94-cfe543f6e2d3",
   "metadata": {
    "codeCollapsed": false,
    "language": "sql",
    "name": "sf012_gold"
   },
   "outputs": [],
   "source": [
    "SELECT \n",
    "    YEAR(claims.date_of_loss)               AS year_of_loss,\n",
    "    claims.nfip_community_name,\n",
    "    SUM(claims.building_damage_amount) AS total_building_damage_amount,\n",
    "    SUM(claims.contents_damage_amount) AS total_contents_damage_amount\n",
    "FROM WEATHER__ENVIRONMENT.CYBERSYN.fema_national_flood_insurance_program_claim_index claims\n",
    "WHERE \n",
    "    claims.nfip_community_name = 'City Of New York' \n",
    "    AND year_of_loss >=2010 AND year_of_loss <=2019\n",
    "GROUP BY year_of_loss, claims.nfip_community_name\n",
    "ORDER BY year_of_loss, claims.nfip_community_name;"
   ]
  },
  {
   "cell_type": "code",
   "execution_count": null,
   "id": "9165c5e5-3688-4810-a265-983fd299fdd9",
   "metadata": {
    "codeCollapsed": false,
    "language": "sql",
    "name": "sf012_lifebloom"
   },
   "outputs": [],
   "source": [
    "SELECT YEAR(DATE_OF_LOSS) AS claim_year, \n",
    "       SUM(BUILDING_DAMAGE_AMOUNT) AS total_building_damage, \n",
    "       SUM(CONTENTS_DAMAGE_AMOUNT) AS total_contents_damage\n",
    "FROM WEATHER__ENVIRONMENT.CYBERSYN.FEMA_NATIONAL_FLOOD_INSURANCE_PROGRAM_CLAIM_INDEX\n",
    "WHERE NFIP_COMMUNITY_NAME = 'City Of New York'\n",
    "AND DATE_OF_LOSS BETWEEN '2010-01-01' AND '2019-12-31'\n",
    "GROUP BY claim_year\n",
    "ORDER BY claim_year;"
   ]
  },
  {
   "cell_type": "markdown",
   "id": "ce3a4748-a7e5-4686-84e7-1aafcfcffb0c",
   "metadata": {
    "collapsed": false,
    "name": "sf012_verdict"
   },
   "source": [
    "## Verdict: Correct!"
   ]
  },
  {
   "cell_type": "markdown",
   "id": "10676b1a-f3f2-43ac-8e18-28ff2ebbf859",
   "metadata": {
    "collapsed": false,
    "name": "sf013_query"
   },
   "source": [
    "## SF-013\n",
    "### Determine the total length of roads for each class and subclass in Amsterdam and Rotterdam, based on specific QUADKEY segments '12020210' and '12020211'? Show the class, subclass, and total road lengths for both cities"
   ]
  },
  {
   "cell_type": "code",
   "execution_count": null,
   "id": "b949103c-e082-4d92-bac2-f088c261a2a7",
   "metadata": {
    "codeCollapsed": false,
    "language": "sql",
    "name": "sf013_gold"
   },
   "outputs": [],
   "source": [
    "WITH ROAD AS(\n",
    "SELECT A.NAMES['local']::VARCHAR AS NAME\n",
    "     ,R.Class\n",
    "     ,R.subclass\n",
    "     ,SUM(R.length_m) AS SUM_OF_LENGTH\n",
    " FROM NETHERLANDS_OPEN_MAP_DATA.NETHERLANDS.V_ADMINISTRATIVE A\n",
    "INNER\n",
    " JOIN(SELECT Class\n",
    "            ,subclass\n",
    "            ,length_m\n",
    "            ,GEO_CORDINATES\n",
    "        FROM NETHERLANDS_OPEN_MAP_DATA.NETHERLANDS.V_ROAD \n",
    "       WHERE SUBSTR(QUADKEY\n",
    "             ,0\n",
    "             ,8) IN ('12020210', '12020211')) R\n",
    "   ON ST_COVERS(A.GEO_CORDINATES\n",
    "            ,R.GEO_CORDINATES)\n",
    "WHERE A.id IN('r324431@56'\n",
    "            ,'r47811@69')\n",
    "GROUP BY A.NAMES['local']\n",
    "     ,R.Class\n",
    "     ,R.subclass\n",
    "ORDER BY R.class\n",
    "     ,R.subclass)\n",
    "SELECT CLASS,\n",
    "SUBCLASS,\n",
    "MAX(CASE WHEN NAME='Amsterdam' THEN SUM_OF_LENGTH END) AS AMSTERDAM,\n",
    "MAX(CASE WHEN NAME='Rotterdam' THEN SUM_OF_LENGTH END) AS ROTTERDAM\n",
    "FROM ROAD\n",
    "GROUP BY CLASS,SUBCLASS\n",
    "ORDER BY CLASS,SUBCLASS;"
   ]
  },
  {
   "cell_type": "code",
   "execution_count": null,
   "id": "42cfc20a-7c01-4935-aac8-78c0040ce5fd",
   "metadata": {
    "codeCollapsed": false,
    "language": "sql",
    "name": "sf013_lifebloom"
   },
   "outputs": [],
   "source": [
    "SELECT\n",
    "    V_ROAD.CLASS AS class,\n",
    "    V_ROAD.SUBCLASS AS subclass,\n",
    "    SUM(V_ROAD.LENGTH_M) AS total_length_meters\n",
    "FROM\n",
    "    NETHERLANDS_OPEN_MAP_DATA.NETHERLANDS.V_ROAD\n",
    "WHERE\n",
    "    LEFT(V_ROAD.QUADKEY, 8) IN ('12020210', '12020211')\n",
    "GROUP BY\n",
    "    V_ROAD.CLASS,\n",
    "    V_ROAD.SUBCLASS\n",
    "ORDER BY\n",
    "    total_length_meters DESC;"
   ]
  },
  {
   "cell_type": "markdown",
   "id": "bd912c30-b454-4c0e-972a-d2a4d7e4d103",
   "metadata": {
    "collapsed": false,
    "name": "sf013_verdict"
   },
   "source": [
    "## Verdict: Incorrect!"
   ]
  },
  {
   "cell_type": "markdown",
   "id": "1e107ffc-d9f1-450b-bfb0-bdf92e78f240",
   "metadata": {
    "collapsed": false,
    "name": "sf014_query"
   },
   "source": [
    "## SF-014\n",
    "### What is the New York State ZIP code with the highest number of commuters traveling over one hour, according to 2021 ACS data? Include the total commuters, state benchmark for this duration, and state population."
   ]
  },
  {
   "cell_type": "code",
   "execution_count": null,
   "id": "7be61244-d457-4347-8ab0-9df52e443af0",
   "metadata": {
    "codeCollapsed": false,
    "language": "sql",
    "name": "sf014_gold"
   },
   "outputs": [],
   "source": [
    "WITH Commuters AS (\n",
    "    SELECT\n",
    "        GE.\"ZipCode\",\n",
    "        SUM(CASE WHEN M.\"MetricID\" = 'B08303_013E' THEN F.\"CensusValueByZip\" ELSE 0 END +\n",
    "            CASE WHEN M.\"MetricID\" = 'B08303_012E' THEN F.\"CensusValueByZip\" ELSE 0 END) AS \"Num_Commuters_1Hr_Travel_Time\"\n",
    "    FROM\n",
    "        CENSUS_GALAXY__AIML_MODEL_DATA_ENRICHMENT_SAMPLE.PUBLIC.\"LU_GeographyExpanded\" GE\n",
    "    JOIN\n",
    "        CENSUS_GALAXY__AIML_MODEL_DATA_ENRICHMENT_SAMPLE.PUBLIC.\"Fact_CensusValues_ACS2021_ByZip\" F\n",
    "        ON GE.\"ZipCode\" = F.\"ZipCode\"\n",
    "    JOIN\n",
    "        CENSUS_GALAXY__AIML_MODEL_DATA_ENRICHMENT_SAMPLE.PUBLIC.\"Dim_CensusMetrics\" M\n",
    "        ON F.\"MetricID\" = M.\"MetricID\"\n",
    "    WHERE\n",
    "        GE.\"PreferredStateAbbrev\" = 'NY'\n",
    "        AND (M.\"MetricID\" = 'B08303_013E' OR M.\"MetricID\" = 'B08303_012E') -- Metric IDs for commuters with 1+ hour travel time\n",
    "    GROUP BY\n",
    "        GE.\"ZipCode\"\n",
    "),\n",
    "\n",
    "StateBenchmark AS (\n",
    "    SELECT\n",
    "        SB.\"StateAbbrev\",\n",
    "        SUM(SB.\"StateBenchmarkValue\") AS \"StateBenchmark_Over1HrTravelTime\",\n",
    "        SB.\"TotalStatePopulation\"\n",
    "    FROM\n",
    "        CENSUS_GALAXY__AIML_MODEL_DATA_ENRICHMENT_SAMPLE.PUBLIC.\"Fact_StateBenchmark_ACS2021\" SB\n",
    "    WHERE\n",
    "        SB.\"MetricID\" IN ('B08303_013E', 'B08303_012E')\n",
    "        AND SB.\"StateAbbrev\" = 'NY'\n",
    "    GROUP BY\n",
    "        SB.\"StateAbbrev\", SB.\"TotalStatePopulation\"\n",
    ")\n",
    "\n",
    "SELECT\n",
    "    C.\"ZipCode\",\n",
    "    SUM(C.\"Num_Commuters_1Hr_Travel_Time\") AS \"Total_Commuters_1Hr_Travel_Time\",\n",
    "    SB.\"StateBenchmark_Over1HrTravelTime\",\n",
    "    SB.\"TotalStatePopulation\",\n",
    "FROM\n",
    "    Commuters C\n",
    "CROSS JOIN\n",
    "    StateBenchmark SB\n",
    "GROUP BY\n",
    "    C.\"ZipCode\", SB.\"StateBenchmark_Over1HrTravelTime\", SB.\"TotalStatePopulation\"\n",
    "ORDER BY\n",
    "    \"Total_Commuters_1Hr_Travel_Time\" DESC\n",
    "LIMIT 1;\n",
    "\n",
    "\n"
   ]
  },
  {
   "cell_type": "code",
   "execution_count": null,
   "id": "ac48a109-981b-4c6f-8c41-c87517be8a37",
   "metadata": {
    "codeCollapsed": false,
    "language": "sql",
    "name": "sf014_lifebloom"
   },
   "outputs": [],
   "source": [
    "WITH ValidCommute AS (\n",
    "    SELECT \n",
    "        VARIABLE, VARIABLE_NAME, SERIES_ID, MEASURE\n",
    "    FROM \n",
    "        GLOBAL_GOVERNMENT.CYBERSYN.AMERICAN_COMMUNITY_SURVEY_ATTRIBUTES\n",
    "    WHERE \n",
    "        VARIABLE_NAME ILIKE '%60 to 89 minutes%' AND\n",
    "        MEASUREMENT_PERIOD = '1YR'\n",
    ")\n",
    "SELECT DISTINCT\n",
    "    VC.VARIABLE, VC.VARIABLE_NAME, VC.MEASURE\n",
    "FROM\n",
    "    ValidCommute VC\n",
    "LIMIT 10;"
   ]
  },
  {
   "cell_type": "markdown",
   "id": "49cbd610-dd0a-4945-9cb4-b7e78282da1d",
   "metadata": {
    "collapsed": false,
    "name": "sf014_verdict"
   },
   "source": [
    "## Verdict: Incorrect!"
   ]
  },
  {
   "cell_type": "markdown",
   "id": "485d3cf4-c007-4985-ab4a-6d7570e86433",
   "metadata": {
    "collapsed": false,
    "name": "sf018_query"
   },
   "source": [
    "## SF-018\n",
    "### Examine user engagement with push notifications within a specified one-hour window on June 1, 2023."
   ]
  },
  {
   "cell_type": "code",
   "execution_count": null,
   "id": "4bdb6486-a29a-4863-be0a-8d0e8ea7dd3e",
   "metadata": {
    "codeCollapsed": false,
    "language": "sql",
    "name": "sf018_gold"
   },
   "outputs": [],
   "source": [
    "WITH push_send AS (\n",
    "    SELECT\n",
    "        id,\n",
    "        app_group_id,\n",
    "        user_id,\n",
    "        campaign_id,\n",
    "        message_variation_id,\n",
    "        platform,\n",
    "        ad_tracking_enabled,\n",
    "        TO_TIMESTAMP(TIME) AS \"TIME\",\n",
    "        'Send' AS \"EVENT_TYPE\"\n",
    "    FROM\n",
    "        BRAZE_USER_EVENT_DEMO_DATASET.PUBLIC.USERS_MESSAGES_PUSHNOTIFICATION_SEND_VIEW\n",
    "    WHERE\n",
    "        TO_TIMESTAMP(TIME) BETWEEN '2023-06-01 08:00:00' AND '2023-06-01 09:00:00'\n",
    "),\n",
    "push_bounce AS (\n",
    "    SELECT\n",
    "        id,\n",
    "        app_group_id,\n",
    "        user_id,\n",
    "        campaign_id,\n",
    "        message_variation_id,\n",
    "        platform,\n",
    "        ad_tracking_enabled,\n",
    "        TO_TIMESTAMP(TIME) AS \"TIME\",\n",
    "        'Bounce' AS \"EVENT_TYPE\"\n",
    "    FROM\n",
    "        BRAZE_USER_EVENT_DEMO_DATASET.PUBLIC.USERS_MESSAGES_PUSHNOTIFICATION_BOUNCE_VIEW\n",
    "    WHERE\n",
    "        TO_TIMESTAMP(TIME) BETWEEN '2023-06-01 08:00:00' AND '2023-06-01 09:00:00'\n",
    "),\n",
    "push_open AS (\n",
    "    SELECT\n",
    "        id,\n",
    "        app_group_id,\n",
    "        user_id,\n",
    "        campaign_id,\n",
    "        message_variation_id,\n",
    "        platform,\n",
    "        ad_tracking_enabled,\n",
    "        TO_TIMESTAMP(TIME) AS \"TIME\",\n",
    "        'Open' AS \"EVENT_TYPE\",\n",
    "        carrier,\n",
    "        browser,\n",
    "        device_model\n",
    "    FROM\n",
    "        BRAZE_USER_EVENT_DEMO_DATASET.PUBLIC.USERS_MESSAGES_PUSHNOTIFICATION_OPEN_VIEW\n",
    "    WHERE\n",
    "        TO_TIMESTAMP(TIME) BETWEEN '2023-06-01 08:00:00' AND '2023-06-01 09:00:00'\n",
    "),\n",
    "push_open_influence AS (\n",
    "    SELECT\n",
    "        id,\n",
    "        app_group_id,\n",
    "        user_id,\n",
    "        campaign_id,\n",
    "        message_variation_id,\n",
    "        platform,\n",
    "        TO_TIMESTAMP(TIME) AS \"TIME\",\n",
    "        'Influenced Open' AS \"EVENT_TYPE\",\n",
    "        carrier,\n",
    "        browser,\n",
    "        device_model\n",
    "    FROM\n",
    "        BRAZE_USER_EVENT_DEMO_DATASET.PUBLIC.USERS_MESSAGES_PUSHNOTIFICATION_INFLUENCEDOPEN_VIEW\n",
    "    WHERE\n",
    "        TO_TIMESTAMP(TIME) BETWEEN '2023-06-01 08:00:00' AND '2023-06-01 09:00:00'\n",
    ")\n",
    "SELECT\n",
    "    ps.app_group_id,\n",
    "    ps.campaign_id,\n",
    "    ps.user_id,\n",
    "    ps.time,\n",
    "    po.time push_open_time,\n",
    "    ps.message_variation_id,\n",
    "    ps.platform,\n",
    "    ps.ad_tracking_enabled,\n",
    "    po.carrier,\n",
    "    po.browser,\n",
    "    po.device_model,\n",
    "    COUNT(\n",
    "        DISTINCT ps.id\n",
    "    ) push_notification_sends,\n",
    "    COUNT(\n",
    "        DISTINCT ps.user_id\n",
    "    ) unique_push_notification_sends,\n",
    "    COUNT(\n",
    "        DISTINCT pb.id\n",
    "    ) push_notification_bounced,\n",
    "    COUNT(\n",
    "        DISTINCT pb.user_id\n",
    "    ) unique_push_notification_bounced,\n",
    "    COUNT(\n",
    "        DISTINCT po.id\n",
    "    ) push_notification_open,\n",
    "    COUNT(\n",
    "        DISTINCT po.user_id\n",
    "    ) unique_push_notification_opened,\n",
    "    COUNT(\n",
    "        DISTINCT poi.id\n",
    "    ) push_notification_influenced_open,\n",
    "    COUNT(\n",
    "        DISTINCT poi.user_id\n",
    "    ) unique_push_notification_influenced_open\n",
    "FROM\n",
    "    push_send ps\n",
    "    LEFT JOIN push_bounce pb\n",
    "    ON ps.message_variation_id = pb.message_variation_id\n",
    "    AND ps.user_id = pb.user_id\n",
    "    AND ps.app_group_id = pb.app_group_id\n",
    "    LEFT JOIN push_open po\n",
    "    ON ps.message_variation_id = po.message_variation_id\n",
    "    AND ps.user_id = po.user_id\n",
    "    AND ps.app_group_id = po.app_group_id\n",
    "    LEFT JOIN push_open_influence poi\n",
    "    ON ps.message_variation_id = poi.message_variation_id\n",
    "    AND ps.user_id = poi.user_id\n",
    "    AND ps.app_group_id = poi.app_group_id\n",
    "GROUP BY\n",
    "    1,2,3,4,5,6,7,8,9,10,11;\n"
   ]
  },
  {
   "cell_type": "code",
   "execution_count": null,
   "id": "81cc7ca7-f8b8-477d-9108-86561d28a0e7",
   "metadata": {
    "codeCollapsed": false,
    "language": "sql",
    "name": "sf018_lifebloom"
   },
   "outputs": [],
   "source": [
    "WITH send_events AS (SELECT USER_ID, APP_GROUP_ID, CAMPAIGN_ID, MESSAGE_VARIATION_ID, PLATFORM, AD_TRACKING_ENABLED, COUNT(*) AS push_notification_sends FROM BRAZE_USER_EVENT_DEMO_DATASET.PUBLIC.USERS_MESSAGES_PUSHNOTIFICATION_SEND_VIEW WHERE TO_TIMESTAMP(TIME) BETWEEN '2023-06-01 08:00:00' AND '2023-06-01 09:00:00' GROUP BY USER_ID, APP_GROUP_ID, CAMPAIGN_ID, MESSAGE_VARIATION_ID, PLATFORM, AD_TRACKING_ENABLED), bounce_events AS (SELECT USER_ID, APP_GROUP_ID, CAMPAIGN_ID, MESSAGE_VARIATION_ID, PLATFORM, AD_TRACKING_ENABLED, COUNT(*) AS push_notification_bounced FROM BRAZE_USER_EVENT_DEMO_DATASET.PUBLIC.USERS_MESSAGES_PUSHNOTIFICATION_BOUNCE_VIEW WHERE TO_TIMESTAMP(TIME) BETWEEN '2023-06-01 08:00:00' AND '2023-06-01 09:00:00' GROUP BY USER_ID, APP_GROUP_ID, CAMPAIGN_ID, MESSAGE_VARIATION_ID, PLATFORM, AD_TRACKING_ENABLED), open_events AS (SELECT USER_ID, APP_GROUP_ID, CAMPAIGN_ID, MESSAGE_VARIATION_ID, PLATFORM, AD_TRACKING_ENABLED, CARRIER, BROWSER, DEVICE_MODEL, COUNT(*) AS push_notification_open FROM BRAZE_USER_EVENT_DEMO_DATASET.PUBLIC.USERS_MESSAGES_PUSHNOTIFICATION_OPEN_VIEW WHERE TO_TIMESTAMP(TIME) BETWEEN '2023-06-01 08:00:00' AND '2023-06-01 09:00:00' GROUP BY USER_ID, APP_GROUP_ID, CAMPAIGN_ID, MESSAGE_VARIATION_ID, PLATFORM, AD_TRACKING_ENABLED, CARRIER, BROWSER, DEVICE_MODEL), influenced_open_events AS (SELECT USER_ID, APP_GROUP_ID, CAMPAIGN_ID, MESSAGE_VARIATION_ID, PLATFORM, CARRIER, BROWSER, DEVICE_MODEL, COUNT(*) AS push_notification_influenced_open FROM BRAZE_USER_EVENT_DEMO_DATASET.PUBLIC.USERS_MESSAGES_PUSHNOTIFICATION_INFLUENCEDOPEN_VIEW WHERE TO_TIMESTAMP(TIME) BETWEEN '2023-06-01 08:00:00' AND '2023-06-01 09:00:00' GROUP BY USER_ID, APP_GROUP_ID, CAMPAIGN_ID, MESSAGE_VARIATION_ID, PLATFORM, CARRIER, BROWSER, DEVICE_MODEL ) SELECT COALESCE(s.USER_ID, b.USER_ID, o.USER_ID, ip.USER_ID) AS USER_ID, COALESCE(s.APP_GROUP_ID, b.APP_GROUP_ID, o.APP_GROUP_ID, ip.APP_GROUP_ID) AS APP_GROUP_ID, COALESCE(s.CAMPAIGN_ID, b.CAMPAIGN_ID, o.CAMPAIGN_ID, ip.CAMPAIGN_ID) AS CAMPAIGN_ID, COALESCE(s.MESSAGE_VARIATION_ID, b.MESSAGE_VARIATION_ID, o.MESSAGE_VARIATION_ID, ip.MESSAGE_VARIATION_ID) AS MESSAGE_VARIATION_ID, COALESCE(s.PLATFORM, b.PLATFORM, o.PLATFORM, ip.PLATFORM) AS PLATFORM, s.AD_TRACKING_ENABLED, o.CARRIER, o.BROWSER, o.DEVICE_MODEL, SUM(s.push_notification_sends) AS push_notification_sends, SUM(b.push_notification_bounced) AS push_notification_bounced, SUM(o.push_notification_open) AS push_notification_open, SUM(ip.push_notification_influenced_open) AS push_notification_influenced_open FROM send_events s FULL JOIN bounce_events b ON s.USER_ID = b.USER_ID AND s.CAMPAIGN_ID = b.CAMPAIGN_ID AND s.APP_GROUP_ID = b.APP_GROUP_ID AND s.PLATFORM = b.PLATFORM FULL JOIN open_events o ON b.USER_ID = o.USER_ID AND b.CAMPAIGN_ID = o.CAMPAIGN_ID AND b.APP_GROUP_ID = o.APP_GROUP_ID AND b.PLATFORM = o.PLATFORM FULL JOIN influenced_open_events ip ON o.USER_ID = ip.USER_ID AND o.CAMPAIGN_ID = ip.CAMPAIGN_ID AND o.APP_GROUP_ID = ip.APP_GROUP_ID AND o.PLATFORM = ip.PLATFORM AND o.CARRIER = ip.CARRIER AND o.BROWSER = ip.BROWSER AND o.DEVICE_MODEL = ip.DEVICE_MODEL GROUP BY COALESCE(s.USER_ID, b.USER_ID, o.USER_ID, ip.USER_ID), COALESCE(s.APP_GROUP_ID, b.APP_GROUP_ID, o.APP_GROUP_ID, ip.APP_GROUP_ID), COALESCE(s.CAMPAIGN_ID, b.CAMPAIGN_ID, o.CAMPAIGN_ID, ip.CAMPAIGN_ID), COALESCE(s.MESSAGE_VARIATION_ID, b.MESSAGE_VARIATION_ID, o.MESSAGE_VARIATION_ID, ip.MESSAGE_VARIATION_ID), COALESCE(s.PLATFORM, b.PLATFORM, o.PLATFORM, ip.PLATFORM), s.AD_TRACKING_ENABLED, o.CARRIER, o.BROWSER, o.DEVICE_MODEL LIMIT 10;"
   ]
  },
  {
   "cell_type": "markdown",
   "id": "ecd95571-6e19-46e9-b35f-fdba58dce9ef",
   "metadata": {
    "collapsed": false,
    "name": "sf018_verdict"
   },
   "source": [
    "## Verdict: Incorrect"
   ]
  },
  {
   "cell_type": "markdown",
   "id": "955c2599-fe2c-4740-9305-496f60d802c4",
   "metadata": {
    "collapsed": false,
    "name": "sf029_query"
   },
   "source": [
    "## SF-029\n",
    "### Generate a daily detailed report for each product, showing sales units, revenue, average selling price (ASP), glance views, conversion rate, shipped units, shipped revenue, average net profit margin (PPM), and inventory details, starting 30 days prior to February 6, 2022, and including that date, for products under the 'Manufacturing' distributor view?"
   ]
  },
  {
   "cell_type": "code",
   "execution_count": null,
   "id": "027a6b35-2233-4436-90d1-a5e05f86e700",
   "metadata": {
    "codeCollapsed": false,
    "language": "sql",
    "name": "sf029_gold"
   },
   "outputs": [],
   "source": [
    "select date\n",
    ", asin\n",
    ", max(sa.product_title)\n",
    ", sum(sa.ordered_units) as ordered_units, sum(sa.ordered_revenue) as ordered_revenue\n",
    ", sa.ordered_revenue/NULLIF(sa.ordered_units,0) as ASP\n",
    ", sum(tr.glance_views) as glance_views\n",
    ", CAST(sa.ordered_units as decimal(5,2))/NULLIF(tr.glance_views,0) as conversion_rate\n",
    ", sum(sa.shipped_units) as shipped_units\n",
    ", sum(sa.shipped_revenue) as shipped_revenue\n",
    ", avg(net_ppm) as net_ppm\n",
    ", avg(procurable_product_oos) as procurable_product_oos\n",
    ", sum(sellable_on_hand_units) as sellable_on_hand_units\n",
    ", sum(sellable_on_hand_inventory) as sellable_on_hand_value\n",
    ", sum(net_received) as net_received_value\n",
    ", sum(net_received_units) as net_received_units\n",
    ", sum(open_purchase_order_quantity) as open_purchase_order_quantity\n",
    ", sum(unfilled_customer_ordered_units) as unfilled_customer_ordered_units\n",
    ", avg(vendor_confirmation_rate) as vendor_confirmation_rate\n",
    ", avg(receive_fill_rate) as receive_fill_rate\n",
    ", avg(sell_through_rate) as sell_through_rate\n",
    ", avg(overall_vendor_lead_time_days) as vendor_lead_time_days\n",
    "\n",
    "from AMAZON_VENDOR_ANALYTICS__SAMPLE_DATASET.PUBLIC.retail_analytics_sales sa\n",
    "join AMAZON_VENDOR_ANALYTICS__SAMPLE_DATASET.PUBLIC.retail_analytics_traffic tr\n",
    "using (date, asin, program, period, distributor_view)\n",
    "join AMAZON_VENDOR_ANALYTICS__SAMPLE_DATASET.PUBLIC.retail_analytics_inventory inv\n",
    "using (date, asin, program, period, distributor_view)\n",
    "join AMAZON_VENDOR_ANALYTICS__SAMPLE_DATASET.PUBLIC.retail_analytics_net_ppm ppm\n",
    "using (date, asin, program, period, distributor_view)\n",
    "\n",
    "where date >= to_date('2022-02-06','YYYY-MM-DD') -30\n",
    "and distributor_view = 'Manufacturing'\n",
    "and period = 'DAILY' \n",
    "\n",
    "group by 1, 2, 6, 8\n",
    "order by 1 desc\n"
   ]
  },
  {
   "cell_type": "code",
   "execution_count": null,
   "id": "3e3ae94e-53bc-49a5-a611-97aa9b853f0c",
   "metadata": {
    "codeCollapsed": false,
    "language": "sql",
    "name": "sf029_lifebloom"
   },
   "outputs": [],
   "source": [
    "WITH Traffic_CTE AS ( \n",
    "    SELECT DATE, ASIN, GLANCE_VIEWS \n",
    "    FROM AMAZON_VENDOR_ANALYTICS__SAMPLE_DATASET.PUBLIC.RETAIL_ANALYTICS_TRAFFIC \n",
    "    WHERE DISTRIBUTOR_VIEW = 'Manufacturing' \n",
    "    AND DATE BETWEEN '2022-01-07' AND '2022-02-06' ), \n",
    "Sales_CTE AS ( \n",
    "    SELECT DATE, ASIN, ORDERED_UNITS AS SALES_UNITS, SHIPPED_UNITS, SHIPPED_REVENUE \n",
    "    FROM AMAZON_VENDOR_ANALYTICS__SAMPLE_DATASET.PUBLIC.RETAIL_ANALYTICS_SALES \n",
    "    WHERE DISTRIBUTOR_VIEW = 'Manufacturing' \n",
    "    AND DATE BETWEEN '2022-01-07' AND '2022-02-06' ), \n",
    "Inventory_CTE AS ( \n",
    "    SELECT DATE, ASIN, SELLABLE_ON_HAND_INVENTORY \n",
    "    FROM AMAZON_VENDOR_ANALYTICS__SAMPLE_DATASET.PUBLIC.RETAIL_ANALYTICS_INVENTORY \n",
    "    WHERE DATE BETWEEN '2022-01-07' AND '2022-02-06' ), \n",
    "NetPPM_CTE AS ( \n",
    "    SELECT DATE, ASIN, NET_PPM \n",
    "    FROM AMAZON_VENDOR_ANALYTICS__SAMPLE_DATASET.PUBLIC.RETAIL_ANALYTICS_NET_PPM \n",
    "    WHERE DATE BETWEEN '2022-01-07' AND '2022-02-06' ) \n",
    "SELECT \n",
    "    t.DATE, t.ASIN, t.GLANCE_VIEWS, \n",
    "    IFNULL(s.SALES_UNITS, 0) AS SALES_UNITS, \n",
    "    IFNULL(s.SHIPPED_UNITS, 0) AS SHIPPED_UNITS, \n",
    "    IFNULL(s.SHIPPED_REVENUE, 0) AS SHIPPED_REVENUE, \n",
    "    ROUND(IFNULL(s.SALES_UNITS, 0) / NULLIF(t.GLANCE_VIEWS, 0), 4) AS CONVERSION_RATE, \n",
    "    CASE \n",
    "        WHEN s.SHIPPED_UNITS > 0 \n",
    "        THEN ROUND(IFNULL(s.SHIPPED_REVENUE, 0) / s.SHIPPED_UNITS, 2) \n",
    "        ELSE NULL \n",
    "    END AS ASP, \n",
    "    i.SELLABLE_ON_HAND_INVENTORY, \n",
    "    n.NET_PPM \n",
    "FROM Traffic_CTE t \n",
    "LEFT JOIN Sales_CTE s ON t.ASIN = s.ASIN AND t.DATE = s.DATE \n",
    "LEFT JOIN Inventory_CTE i ON t.ASIN = i.ASIN AND t.DATE = i.DATE \n",
    "LEFT JOIN NetPPM_CTE n ON t.ASIN = n.ASIN AND t.DATE = n.DATE \n",
    "ORDER BY t.DATE, t.ASIN;"
   ]
  },
  {
   "cell_type": "markdown",
   "id": "294fd824-dd44-4a51-b275-9529f640c68c",
   "metadata": {
    "collapsed": false,
    "name": "sf029_verdict"
   },
   "source": [
    "## Verdict: Incorrect*\n",
    "### We were left a bit confused by this one, but alas our answer is certainly missing something and is not filtering on time the same way as the gold answer."
   ]
  },
  {
   "cell_type": "markdown",
   "id": "5a39a6a8-1ca5-473d-9a4e-ecfbe849017e",
   "metadata": {
    "collapsed": false,
    "name": "sf035_query"
   },
   "source": [
    "## SF-035\n",
    "### How many unique users started sessions each day within each app group between June 1, 2023, and June 7, 2023? Also show the app group ID and the start day of the session."
   ]
  },
  {
   "cell_type": "code",
   "execution_count": null,
   "id": "6ec43103-85bb-4e5c-a290-191a990ed8f6",
   "metadata": {
    "codeCollapsed": false,
    "language": "sql",
    "name": "sf035_gold"
   },
   "outputs": [],
   "source": [
    "WITH session_joins AS (\n",
    "    SELECT\n",
    "        ss.app_group_id,\n",
    "        ss.time AS ss_time,\n",
    "        ss.user_id\n",
    "    FROM\n",
    "        BRAZE_USER_EVENT_DEMO_DATASET.PUBLIC.users_behaviors_app_sessionstart_view ss\n",
    "        JOIN BRAZE_USER_EVENT_DEMO_DATASET.PUBLIC.users_behaviors_app_firstsession_view fs\n",
    "        ON ss.user_id = fs.user_id\n",
    "        AND ss.app_group_id = fs.app_group_id\n",
    "    WHERE\n",
    "        ss.time >= DATEDIFF(s, '1970-01-01', '2023-06-01') AND\n",
    "        ss.time < DATEDIFF(s, '1970-01-01', '2023-06-08')\n",
    ")\n",
    "SELECT\n",
    "    app_group_id,\n",
    "    DATE_TRUNC('day', DATEADD(s, ss_time, '1970-01-01')) AS session_start_day,\n",
    "    COUNT(\n",
    "        DISTINCT user_id\n",
    "    ) AS count_distinct_users\n",
    "FROM\n",
    "    session_joins\n",
    "GROUP BY\n",
    "    1, 2\n",
    "ORDER BY\n",
    "    session_start_day;"
   ]
  },
  {
   "cell_type": "code",
   "execution_count": null,
   "id": "0e791125-538b-444d-85cd-a15dc7dd5c40",
   "metadata": {
    "codeCollapsed": false,
    "language": "sql",
    "name": "sf035_lifebloom"
   },
   "outputs": [],
   "source": [
    "SELECT \n",
    "  APP_GROUP_ID, \n",
    "  DATE_TRUNC('day', TO_TIMESTAMP(TIME)) AS session_date, \n",
    "  COUNT(DISTINCT USER_ID) AS unique_users\n",
    "FROM \n",
    "  BRAZE_USER_EVENT_DEMO_DATASET.PUBLIC.USERS_BEHAVIORS_APP_SESSIONSTART_VIEW\n",
    "WHERE \n",
    "  DATE_TRUNC('day', TO_TIMESTAMP(TIME)) BETWEEN '2023-06-01' AND '2023-06-07'\n",
    "GROUP BY \n",
    "  APP_GROUP_ID, \n",
    "  session_date\n",
    "ORDER BY \n",
    "  session_date, \n",
    "  APP_GROUP_ID;"
   ]
  },
  {
   "cell_type": "markdown",
   "id": "422751c6-a2ee-4442-8aa1-f61c425e9b11",
   "metadata": {
    "collapsed": false,
    "name": "sf035_verdict"
   },
   "source": [
    "## Verdict: Correct!"
   ]
  },
  {
   "cell_type": "markdown",
   "id": "df49d733-5c85-48a7-a0a6-f6194b9bfa41",
   "metadata": {
    "collapsed": false,
    "name": "sf037_query"
   },
   "source": [
    "## SF-037\n",
    "### For each Home Depot store identified by its POI ID, what is the distance in miles to the nearest Lowe's Home Improvement store?"
   ]
  },
  {
   "cell_type": "code",
   "execution_count": null,
   "id": "9fa53cf0-ff68-4e2c-8b06-42910281d3e7",
   "metadata": {
    "codeCollapsed": false,
    "language": "sql",
    "name": "sf037_gold"
   },
   "outputs": [],
   "source": [
    "WITH joined_data AS (\n",
    "    SELECT poi.poi_id, poi.poi_name, addr.longitude, addr.latitude,\n",
    "           addr.number, addr.street_directional_prefix, addr.street,\n",
    "           addr.street_type, addr.street_directional_suffix,\n",
    "           addr.unit, addr.city, addr.state, addr.zip\n",
    "    FROM US_REAL_ESTATE.CYBERSYN.point_of_interest_index AS poi\n",
    "    JOIN US_REAL_ESTATE.CYBERSYN.point_of_interest_addresses_relationships AS map\n",
    "        ON (poi.poi_id = map.poi_id)\n",
    "    JOIN US_REAL_ESTATE.CYBERSYN.us_addresses AS addr\n",
    "        ON (map.address_id = addr.address_id)\n",
    ")\n",
    "SELECT home_depot.poi_id,\n",
    "       ST_DISTANCE(\n",
    "           ST_MAKEPOINT(home_depot.longitude, home_depot.latitude),\n",
    "           ST_MAKEPOINT(lowes.longitude, lowes.latitude)\n",
    "       ) / 1609 AS distance_miles\n",
    "FROM joined_data AS home_depot\n",
    "JOIN joined_data AS lowes\n",
    "WHERE home_depot.poi_name = 'The Home Depot'\n",
    "  AND lowes.poi_name = 'Lowe''s Home Improvement'\n",
    "QUALIFY ROW_NUMBER() OVER (PARTITION BY home_depot.poi_id ORDER BY distance_miles NULLS LAST) = 1;"
   ]
  },
  {
   "cell_type": "code",
   "execution_count": null,
   "id": "6dd7d2a3-ceac-4aeb-b758-51a51c1f9e5f",
   "metadata": {
    "codeCollapsed": false,
    "language": "sql",
    "name": "sf037_lifebloom"
   },
   "outputs": [],
   "source": [
    "WITH home_depot AS (\n",
    "    SELECT poi.POI_ID as HD_POI_ID, poi.POI_NAME as HD_POI_NAME, LATITUDE, LONGITUDE\n",
    "    FROM US_ADDRESSES__POI.CYBERSYN.POINT_OF_INTEREST_INDEX poi\n",
    "    JOIN US_ADDRESSES__POI.CYBERSYN.POINT_OF_INTEREST_ADDRESSES_RELATIONSHIPS rel ON poi.POI_ID = rel.POI_ID\n",
    "    JOIN US_ADDRESSES__POI.CYBERSYN.US_ADDRESSES usa ON rel.ADDRESS_ID = usa.ADDRESS_ID\n",
    "    WHERE POI_NAME = 'The Home Depot'\n",
    "),\n",
    "lowes AS (\n",
    "    SELECT poi.POI_ID as LW_POI_ID, poi.POI_NAME as LW_POI_NAME, LATITUDE, LONGITUDE\n",
    "    FROM US_ADDRESSES__POI.CYBERSYN.POINT_OF_INTEREST_INDEX poi\n",
    "    JOIN US_ADDRESSES__POI.CYBERSYN.POINT_OF_INTEREST_ADDRESSES_RELATIONSHIPS rel ON poi.POI_ID = rel.POI_ID\n",
    "    JOIN US_ADDRESSES__POI.CYBERSYN.US_ADDRESSES usa ON rel.ADDRESS_ID = usa.ADDRESS_ID\n",
    "    WHERE POI_NAME = 'Lowe''s Home Improvement'\n",
    ")\n",
    "SELECT \n",
    "    hd.HD_POI_ID as Home_Depot_POI_ID,\n",
    "    hd.HD_POI_NAME as Home_Depot_Name,\n",
    "    lw.LW_POI_ID as Lowe_POI_ID,\n",
    "    lw.LW_POI_NAME as Lowe_Name,\n",
    "    3959 * acos(\n",
    "        cos(radians(hd.LATITUDE)) \n",
    "        * cos(radians(lw.LATITUDE)) \n",
    "        * cos(radians(lw.LONGITUDE) - radians(hd.LONGITUDE)) \n",
    "        + sin(radians(hd.LATITUDE)) \n",
    "        * sin(radians(lw.LATITUDE))\n",
    "    ) AS distance_miles\n",
    "FROM home_depot hd\n",
    "CROSS JOIN lowes lw\n",
    "QUALIFY ROW_NUMBER() OVER (PARTITION BY hd.HD_POI_ID ORDER BY distance_miles ASC) = 1\n",
    "ORDER BY hd.HD_POI_ID, distance_miles ASC;"
   ]
  },
  {
   "cell_type": "markdown",
   "id": "9d442022-d795-4f48-a254-ce5fbbb132b1",
   "metadata": {
    "collapsed": false,
    "name": "sf037_verdict"
   },
   "source": [
    "## Verdict: Correct!"
   ]
  },
  {
   "cell_type": "markdown",
   "id": "446dbb09-2e2f-45ba-bb99-23a5716d04af",
   "metadata": {
    "collapsed": false,
    "name": "sf040_query"
   },
   "source": [
    "## SF-040\n",
    "### Find the top 10 northernmost addresses in Florida's largest zip code area. What are their address numbers, street names, and types?"
   ]
  },
  {
   "cell_type": "code",
   "execution_count": null,
   "id": "7cb95f13-a48d-4582-92bb-718478b82f3f",
   "metadata": {
    "codeCollapsed": false,
    "language": "sql",
    "name": "sf040_gold"
   },
   "outputs": [],
   "source": [
    "WITH zip_areas AS (\n",
    "    SELECT\n",
    "        geo.geo_id,\n",
    "        geo.geo_name AS zip,\n",
    "        states.related_geo_name AS state,\n",
    "        countries.related_geo_name AS country,\n",
    "        ST_AREA(TRY_TO_GEOGRAPHY(value)) AS area\n",
    "    FROM US_ADDRESSES__POI.CYBERSYN.geography_index AS geo\n",
    "    JOIN US_ADDRESSES__POI.CYBERSYN.geography_relationships AS states\n",
    "        ON (geo.geo_id = states.geo_id AND states.related_level = 'State')\n",
    "    JOIN US_ADDRESSES__POI.CYBERSYN.geography_relationships AS countries\n",
    "        ON (geo.geo_id = countries.geo_id AND countries.related_level = 'Country')\n",
    "    JOIN US_ADDRESSES__POI.CYBERSYN.geography_characteristics AS chars\n",
    "        ON (geo.geo_id = chars.geo_id AND chars.relationship_type = 'coordinates_geojson')\n",
    "    WHERE geo.level = 'CensusZipCodeTabulationArea'\n",
    "),\n",
    "\n",
    "zip_area_ranks AS (\n",
    "    SELECT\n",
    "        *,\n",
    "        ROW_NUMBER() OVER (PARTITION BY country, state ORDER BY area DESC, geo_id) AS zip_area_rank\n",
    "    FROM zip_areas\n",
    ")\n",
    "\n",
    "SELECT addr.number, addr.street, addr.street_type\n",
    "FROM US_ADDRESSES__POI.CYBERSYN.us_addresses AS addr\n",
    "JOIN zip_area_ranks AS areas\n",
    "    ON (addr.id_zip = areas.geo_id)\n",
    "WHERE addr.state = 'FL' AND areas.country = 'United States' AND areas.zip_area_rank = 1\n",
    "ORDER BY LATITUDE DESC\n",
    "LIMIT 10;"
   ]
  },
  {
   "cell_type": "code",
   "execution_count": null,
   "id": "c66d2138-c519-4958-b611-8dba11239b7a",
   "metadata": {
    "codeCollapsed": false,
    "language": "sql",
    "name": "sf040_lifebloom"
   },
   "outputs": [],
   "source": [
    "SELECT \"LATITUDE\", \"NUMBER\", \"STREET\", COALESCE(\"STREET_TYPE\", 'N/A') AS \"STREET_TYPE\"\n",
    "FROM US_REAL_ESTATE.CYBERSYN.US_ADDRESSES\n",
    "WHERE \"ZIP\" = '33852'\n",
    "ORDER BY \"LATITUDE\" DESC\n",
    "LIMIT 10;"
   ]
  },
  {
   "cell_type": "markdown",
   "id": "6f28cbbe-7736-42f5-9e83-139a895befc1",
   "metadata": {
    "collapsed": false,
    "name": "sf040_verdict"
   },
   "source": [
    "## Verdict: Incorrect*\n",
    "### We think that this is one that definitely comes down to phrasing. In our testing, models see this question as asking what is the highest population zip code - despite the question referencing \"area.\""
   ]
  },
  {
   "cell_type": "markdown",
   "id": "e5519458-afe6-4c56-a586-3933d260314a",
   "metadata": {
    "collapsed": false,
    "name": "sf041_query"
   },
   "source": [
    "## SF-041\n",
    "### Generate a detailed analysis report for ERCOT on October 1, 2022, that integrates pricing, load forecasts, real-time load, and renewable generation data to provide insights into daily market dynamics and operational efficiency?"
   ]
  },
  {
   "cell_type": "code",
   "execution_count": null,
   "id": "f2465f52-6692-4c98-8eba-386472bd90a2",
   "metadata": {
    "codeCollapsed": false,
    "language": "sql",
    "name": "sf041_gold"
   },
   "outputs": [],
   "source": [
    "with datetimes_ as ( --Grabbing standardized datetime data to which all data will be joined.\n",
    "        select *\n",
    "        from YES_ENERGY__SAMPLE_DATA.YES_ENERGY_SAMPLE.iso_market_times_sample\n",
    "        where iso = 'ERCOT'\n",
    "            and datetime = '2022-10-01' -- Setting date specifically for October 1st, 2022.\n",
    "),\n",
    "    prices_ as (\n",
    "        select *\n",
    "        from YES_ENERGY__SAMPLE_DATA.YES_ENERGY_SAMPLE.dart_prices_sample\n",
    "        where iso = 'E' --ISO code (E = ERCOT).\n",
    "            and objectid = 10000697078 --Price node unique numeric id.\n",
    "),\n",
    "    load_forc_ as ( --Load forecast data. To find datatypes, use the v_data_catalog_basic view to get the datatypeid and storage table in which the data is located.\n",
    "        select *\n",
    "        from YES_ENERGY__SAMPLE_DATA.YES_ENERGY_SAMPLE.ts_forecast_sample\n",
    "        where datatypeid = 19060\n",
    "            and objectid = 10000712973\n",
    "),\n",
    "    load_ as ( --Real time load data.\n",
    "        select *\n",
    "        from YES_ENERGY__SAMPLE_DATA.YES_ENERGY_SAMPLE.dart_loads_sample\n",
    "        where objectid = 10000712973\n",
    "),\n",
    "    wind_gen_forc_ as ( --Wind generation forecast data.\n",
    "        select *\n",
    "        from YES_ENERGY__SAMPLE_DATA.YES_ENERGY_SAMPLE.ts_forecast_sample\n",
    "        where datatypeid = 9285\n",
    "           and objectid = 10000712973\n",
    "),\n",
    "    wind_gen_ as ( --Real time wind data.\n",
    "        select trunc(dateadd('second', 3599, datetime), 'hour') datetime --Converts the hourly rollup of 5 min data to hour ending (the 5 min are already interval ending themselves; just needs to be done for Snowflake).\n",
    "              ,avg(value) wind_gen --Raw real time wind generation data is reported at the 5 min granularity.\n",
    "        from YES_ENERGY__SAMPLE_DATA.YES_ENERGY_SAMPLE.ts_gen_sample\n",
    "        where datatypeid = 16\n",
    "            and objectid = 10000712973\n",
    "        group by all\n",
    "),\n",
    "    solar_gen_forc_ as ( --Solar generation forecast data.\n",
    "        select *\n",
    "        from YES_ENERGY__SAMPLE_DATA.YES_ENERGY_SAMPLE.ts_forecast_sample\n",
    "        where datatypeid = 662\n",
    "            and objectid = 10000712973\n",
    "),\n",
    "    solar_gen_ as ( --Real time solar generation data.\n",
    "        select trunc(dateadd('second', 3599, datetime), 'hour') datetime --Converts the hourly rollup of 5 min data to hour ending (the 5 min are already interval ending themselves; just needs to be done for Snowflake).\n",
    "              ,avg(value) solar_gen --Raw real time solar generation data is reported at the 5 min granularity.\n",
    "        from YES_ENERGY__SAMPLE_DATA.YES_ENERGY_SAMPLE.ts_gen_sample\n",
    "        where datatypeid = 650\n",
    "            and objectid = 10000712973\n",
    "        group by all\n",
    "),\n",
    "    combined_wide_data_ as ( --Combining the datatypes from above and grabbing only a subset of the columns. You can grab / \"preserve\" more columns such as the datatypeids from above by updating the code.\n",
    "        select mt.iso --Datetime attributes.\n",
    "              ,mt.datetime\n",
    "              ,mt.timezone              \n",
    "              ,mt.datetime_utc\n",
    "              ,mt.onpeak\n",
    "              ,mt.offpeak\n",
    "              ,mt.wepeak\n",
    "              ,mt.wdpeak\n",
    "              ,mt.marketday\n",
    "              ,ob1.objectname price_node_name --Object for the price data.\n",
    "              ,pr.objectid price_node_id\n",
    "              ,pr.dalmp\n",
    "              ,pr.rtlmp\n",
    "              ,ob2.objectname load_zone_name --Object for the ISO-wide load and generation data. You can also associate this object explicitly with each of the subsequent datatypes by updating the code.\n",
    "              ,lf.objectid load_zone_id\n",
    "              ,lf.value load_forecast\n",
    "              ,lf.publishdate load_forecast_publish_date            \n",
    "              ,ld.rtload\n",
    "              ,wf.value wind_gen_forecast\n",
    "              ,wf.publishdate wind_gen_forecast_publish_date\n",
    "              ,wg.wind_gen\n",
    "              ,sf.value solar_gen_forecast\n",
    "              ,sf.publishdate solar_gen_forecast_publish_date\n",
    "              ,sg.solar_gen\n",
    "              ,load_forecast - wind_gen_forecast - solar_gen_forecast net_load_forecast --Easily calculate additional columns / features such as net load (load minus renewable generation).\n",
    "              ,ld.rtload - wg.wind_gen - sg.solar_gen net_load_real_time --Second calculated feature for real time net load.\n",
    "        from datetimes_ mt\n",
    "        inner join prices_ pr\n",
    "            on (mt.datetime = pr.datetime)\n",
    "        inner join load_forc_ lf\n",
    "            on (mt.datetime = lf.datetime)\n",
    "        inner join load_ ld\n",
    "            on (mt.datetime = ld.datetime)    \n",
    "        inner join wind_gen_forc_ wf\n",
    "            on (mt.datetime = wf.datetime)\n",
    "        inner join wind_gen_ wg\n",
    "            on (mt.datetime = wg.datetime)    \n",
    "        inner join solar_gen_forc_ sf\n",
    "            on (mt.datetime = sf.datetime)\n",
    "        inner join solar_gen_ sg\n",
    "            on (mt.datetime = sg.datetime)\n",
    "        inner join YES_ENERGY__SAMPLE_DATA.YES_ENERGY_SAMPLE.ds_object_list_sample ob1\n",
    "            on (pr.objectid = ob1.objectid)\n",
    "        inner join YES_ENERGY__SAMPLE_DATA.YES_ENERGY_SAMPLE.ds_object_list_sample ob2\n",
    "            on (lf.objectid = ob2.objectid)             \n",
    ")\n",
    "select *\n",
    "from combined_wide_data_\n",
    "order by datetime asc;\n"
   ]
  },
  {
   "cell_type": "code",
   "execution_count": null,
   "id": "c2eca613-908d-4631-90c2-d80e1afd9198",
   "metadata": {
    "codeCollapsed": false,
    "language": "sql",
    "name": "sf041_lifebloom"
   },
   "outputs": [],
   "source": [
    "WITH Aggregated_Renewable_Gen AS (\n",
    "  SELECT \n",
    "    DATE_TRUNC('hour', DATETIME) AS RENEWABLE_HOUR,\n",
    "    AVG(VALUE) AS AVG_RENEWABLE_GEN\n",
    "  FROM \n",
    "    YES_ENERGY__SAMPLE_DATA.YES_ENERGY_SAMPLE.TS_GEN_SAMPLE\n",
    "  WHERE \n",
    "    DATE(DATETIME) = '2022-10-01'\n",
    "  GROUP BY \n",
    "    DATE_TRUNC('hour', DATETIME)\n",
    "),\n",
    "Price_Load_Aggregated AS (\n",
    "  SELECT \n",
    "    DATE_TRUNC('hour', PRICE_DATETIME) AS HOUR_TIMESTAMP,\n",
    "    AVG(PRICE_LMP) AS AVG_PRICE_LMP,\n",
    "    AVG(RT_LOAD) AS AVG_RT_LOAD\n",
    "  FROM \n",
    "    (SELECT \n",
    "        rp.DATETIME AS PRICE_DATETIME,\n",
    "        rp.LMP AS PRICE_LMP,\n",
    "        rl.LOAD AS RT_LOAD\n",
    "     FROM \n",
    "        YES_ENERGY__SAMPLE_DATA.YES_ENERGY_SAMPLE.RT_PRICES_RECENT_SAMPLE rp\n",
    "     JOIN \n",
    "        YES_ENERGY__SAMPLE_DATA.YES_ENERGY_SAMPLE.RT_LOADS_SAMPLE rl\n",
    "     ON \n",
    "        rp.DATETIME = rl.DATETIME\n",
    "     WHERE \n",
    "        DATE(rp.DATETIME) = '2022-10-01') pl\n",
    "  GROUP BY DATE_TRUNC('hour', PRICE_DATETIME)\n",
    ")\n",
    "SELECT pa.HOUR_TIMESTAMP, pa.AVG_PRICE_LMP, pa.AVG_RT_LOAD, ar.AVG_RENEWABLE_GEN\n",
    "FROM Price_Load_Aggregated pa\n",
    "LEFT JOIN Aggregated_Renewable_Gen ar\n",
    "ON pa.HOUR_TIMESTAMP = ar.RENEWABLE_HOUR\n",
    "ORDER BY pa.HOUR_TIMESTAMP;"
   ]
  },
  {
   "cell_type": "markdown",
   "id": "5d24d190-e59c-4889-a9e2-07ccb216c8e2",
   "metadata": {
    "collapsed": false,
    "name": "sf041_verdict"
   },
   "source": [
    "## Verdict: Correct*\n",
    "### We could go either way on this, but given the vague wording of the question and the lack of additional materials provided - we would actually prefer the second one to be returned to our users."
   ]
  },
  {
   "cell_type": "markdown",
   "id": "b879fce3-8905-47e7-99a3-46adf4d55427",
   "metadata": {
    "collapsed": false,
    "name": "sf044_query"
   },
   "source": [
    "## SF-044\n",
    "### What is the percentage change in post-market close prices for the Magnificent 7 tech companies from January 1 to June 30, 2024?"
   ]
  },
  {
   "cell_type": "code",
   "execution_count": null,
   "id": "264a39a3-1754-4403-bac2-381fcf80e169",
   "metadata": {
    "codeCollapsed": false,
    "language": "sql",
    "name": "sf044_gold"
   },
   "outputs": [],
   "source": [
    "WITH ytd_performance AS (\n",
    "  SELECT\n",
    "    ticker,\n",
    "    MIN(date) OVER (PARTITION BY ticker) AS start_of_year_date,\n",
    "    FIRST_VALUE(value) OVER (PARTITION BY ticker ORDER BY date ASC ROWS BETWEEN UNBOUNDED PRECEDING AND UNBOUNDED FOLLOWING) AS start_of_year_price,\n",
    "    MAX(date) OVER (PARTITION BY ticker) AS latest_date,\n",
    "    LAST_VALUE(value) OVER (PARTITION BY ticker ORDER BY date ASC ROWS BETWEEN UNBOUNDED PRECEDING AND UNBOUNDED FOLLOWING) AS latest_price\n",
    "  FROM FINANCE__ECONOMICS.CYBERSYN.stock_price_timeseries\n",
    "  WHERE\n",
    "    ticker IN ('AAPL', 'MSFT', 'AMZN', 'GOOGL', 'META', 'TSLA', 'NVDA')\n",
    "    AND date BETWEEN DATE '2024-01-01' AND DATE '2024-06-30'  -- Adjusted to cover only from the start of 2024 to the end of June 2024\n",
    "    AND variable_name = 'Post-Market Close'\n",
    ")\n",
    "SELECT\n",
    "  ticker,\n",
    "  (latest_price - start_of_year_price) / start_of_year_price * 100 AS percentage_change_ytd\n",
    "FROM\n",
    "  ytd_performance\n",
    "GROUP BY\n",
    "  ticker, start_of_year_date, start_of_year_price, latest_date, latest_price\n",
    "ORDER BY percentage_change_ytd DESC;"
   ]
  },
  {
   "cell_type": "code",
   "execution_count": null,
   "id": "fe08f3f2-a1ff-4eca-9578-e795c1257ad9",
   "metadata": {
    "codeCollapsed": false,
    "language": "sql",
    "name": "sf044_lifebloom"
   },
   "outputs": [],
   "source": [
    "-- Step 4: Calculate Percentage Change in Post-Market Close Prices\n",
    "WITH price_changes AS (\n",
    "    SELECT \n",
    "        TICKER, \n",
    "        MAX(CASE WHEN DATE = '2024-01-02' THEN VALUE END) AS START_PRICE,\n",
    "        MAX(CASE WHEN DATE = '2024-06-28' THEN VALUE END) AS END_PRICE\n",
    "    FROM (\n",
    "        SELECT TICKER, DATE, VALUE\n",
    "        FROM FINANCE__ECONOMICS.CYBERSYN.STOCK_PRICE_TIMESERIES\n",
    "        WHERE VARIABLE_NAME = 'Post-Market Close'\n",
    "        AND DATE IN ('2024-01-02', '2024-06-28')\n",
    "        AND TICKER IN ('AAPL', 'AMZN', 'GOOGL', 'META', 'MSFT', 'NVDA', 'TSLA')\n",
    "    )\n",
    "    GROUP BY TICKER\n",
    ")\n",
    "SELECT \n",
    "    TICKER,\n",
    "    START_PRICE, \n",
    "    END_PRICE,\n",
    "    ROUND(((END_PRICE - START_PRICE) / START_PRICE) * 100, 2) AS PERCENTAGE_CHANGE\n",
    "FROM price_changes\n",
    "ORDER BY TICKER;"
   ]
  },
  {
   "cell_type": "markdown",
   "id": "6b636463-5d38-41f3-89e7-09fbccecd6c6",
   "metadata": {
    "collapsed": false,
    "name": "sf044_verdict"
   },
   "source": [
    "## Verdict: Correct!"
   ]
  },
  {
   "cell_type": "markdown",
   "id": "41f836bc-a9dd-455f-8347-ac9ddcc16e1f",
   "metadata": {
    "collapsed": false,
    "name": "total_results"
   },
   "source": [
    "# Final Tally: 8 / 18\n",
    "# Accuracy: 44.44%\n",
    "An important caveat of course, is that the existing evaluation suite isn't possible to replicate since the Spider 2.0 team are not finished - and of course they are taking commentary on how to improve the questions/answers. That, combined with this purely using the Snowflake segment with N=18 examples doesn't fully scale - but we wanted to showcase what the Lifebloom model could do on the most difficult dataset out there!\n"
   ]
  },
  {
   "cell_type": "markdown",
   "id": "39262533-0171-4b4f-b52a-bdb4fa90d542",
   "metadata": {
    "collapsed": false,
    "name": "notes"
   },
   "source": []
  }
 ],
 "metadata": {
  "kernelspec": {
   "display_name": "Streamlit Notebook",
   "name": "streamlit"
  }
 },
 "nbformat": 4,
 "nbformat_minor": 5
}
